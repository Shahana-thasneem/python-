{
 "cells": [
  {
   "cell_type": "markdown",
   "id": "c6885ff1",
   "metadata": {},
   "source": [
    "# 1"
   ]
  },
  {
   "cell_type": "code",
   "execution_count": 3,
   "id": "46f1f527",
   "metadata": {},
   "outputs": [
    {
     "name": "stdout",
     "output_type": "stream",
     "text": [
      "enter the integer:-5\n",
      "it is a negative number\n"
     ]
    }
   ],
   "source": [
    "x=int(input(\"enter the integer:\"))\n",
    "if(x>0):\n",
    "    print(\"it is a positive number\")\n",
    "elif(x<0):\n",
    "    print(\"it is a negative number\")\n",
    "else:\n",
    "    print(\"it is zero\")"
   ]
  },
  {
   "cell_type": "markdown",
   "id": "e0cce729",
   "metadata": {},
   "source": [
    "# 2"
   ]
  },
  {
   "cell_type": "code",
   "execution_count": 2,
   "id": "0b15b65f",
   "metadata": {},
   "outputs": [
    {
     "name": "stdout",
     "output_type": "stream",
     "text": [
      "enter the score:98\n",
      "A\n"
     ]
    }
   ],
   "source": [
    "score=int(input(\"enter the score:\"))\n",
    "if(score>=90):\n",
    "    print(\"A\")\n",
    "elif(score>=80) and (score<=89):\n",
    "    print(\"B\")\n",
    "elif(score>=70) and (score<=79):\n",
    "    print(\"C\")\n",
    "elif(score>=60) and (score<=69):\n",
    "    print(\"D\")\n",
    "else:\n",
    "    print(\"F\")"
   ]
  },
  {
   "cell_type": "markdown",
   "id": "bfb58cae",
   "metadata": {},
   "source": [
    "# 3"
   ]
  },
  {
   "cell_type": "code",
   "execution_count": 5,
   "id": "ff1aa6a4",
   "metadata": {},
   "outputs": [
    {
     "name": "stdout",
     "output_type": "stream",
     "text": [
      "Enter the age:80\n",
      "senior\n"
     ]
    }
   ],
   "source": [
    "age=int(input(\"Enter the age:\"))\n",
    "if(age<=12):\n",
    "    print(\"child\")\n",
    "elif(age>=13) and (age<=19):\n",
    "    print(\"teenager\")\n",
    "elif(age>=20) and (age<=59):\n",
    "    print(\"adult\")\n",
    "else:\n",
    "    print(\"senior\")"
   ]
  },
  {
   "cell_type": "markdown",
   "id": "eadbce30",
   "metadata": {},
   "source": [
    "# 4"
   ]
  },
  {
   "cell_type": "code",
   "execution_count": 11,
   "id": "2aaa1c83",
   "metadata": {},
   "outputs": [
    {
     "name": "stdout",
     "output_type": "stream",
     "text": [
      "enter the first number:-1\n",
      "enter the second number:0\n",
      "enter the third number:-6\n",
      "second number is largest\n"
     ]
    }
   ],
   "source": [
    "x=int(input(\"enter the first number:\"))\n",
    "y=int(input(\"enter the second number:\"))\n",
    "z=int(input(\"enter the third number:\"))\n",
    "if (x>y) and (x>z):\n",
    "    print(\"first number is largest\")\n",
    "elif (y>x) and (y>z):\n",
    "    print(\"second number is largest\")\n",
    "elif(z>x) and (z>y):\n",
    "    print(\"third number is largest\")\n",
    "else:\n",
    "    print(\"they are equal\")"
   ]
  },
  {
   "cell_type": "markdown",
   "id": "679e607d",
   "metadata": {},
   "source": [
    "# 5"
   ]
  },
  {
   "cell_type": "code",
   "execution_count": 21,
   "id": "a3989109",
   "metadata": {},
   "outputs": [
    {
     "name": "stdout",
     "output_type": "stream",
     "text": [
      "enter the first side:20\n",
      "enter the second side:8\n",
      "enter the third side:9\n",
      "valid\n"
     ]
    }
   ],
   "source": [
    "x=int(input(\"enter the first side:\"))\n",
    "y=int(input(\"enter the second side:\"))\n",
    "z=int(input(\"enter the third side:\"))\n",
    "sum1=x+y\n",
    "sum2=x+z\n",
    "sum3=y+z\n",
    "if (sum1>z):\n",
    "    print(\"valid\")\n",
    "elif (sum2>y):\n",
    "    print(\"valid\")\n",
    "elif (sum3>x):\n",
    "    print(\"valid\")\n",
    "else:\n",
    "    print(\"invalid\")"
   ]
  },
  {
   "cell_type": "markdown",
   "id": "c8674df8",
   "metadata": {},
   "source": [
    "# 6"
   ]
  },
  {
   "cell_type": "code",
   "execution_count": 21,
   "id": "1692ab84",
   "metadata": {},
   "outputs": [
    {
     "name": "stdout",
     "output_type": "stream",
     "text": [
      "enter the time (HH:MM):22:45\n",
      "time in 12 hour format: 10 : 45 : PM\n"
     ]
    }
   ],
   "source": [
    "t24=input(\"enter the time (HH:MM):\")\n",
    "hour,minute=map(int,t24.split(':'))\n",
    "if (hour>=12):\n",
    "    period=\"PM\"\n",
    "    if(hour>12):\n",
    "        hour=hour-12\n",
    "else:\n",
    "    period=\"AM\"\n",
    "    if (hour==0):\n",
    "        hour=12\n",
    "print(\"time in 12 hour format:\",hour,\":\",minute,\":\",period)"
   ]
  },
  {
   "cell_type": "markdown",
   "id": "252a839c",
   "metadata": {},
   "source": [
    "# 7"
   ]
  },
  {
   "cell_type": "code",
   "execution_count": 1,
   "id": "26aa736a",
   "metadata": {},
   "outputs": [
    {
     "name": "stdout",
     "output_type": "stream",
     "text": [
      "enter a character:f\n",
      "it is a consonant\n"
     ]
    }
   ],
   "source": [
    "char=input(\"enter a character:\")\n",
    "char=char.lower()\n",
    "if char in 'aeiou':\n",
    "    print(\"it is a vowel\")\n",
    "elif(char.isalpha()):\n",
    "    print(\"it is a consonant\")\n",
    "else:\n",
    "    print(\"it is neither a vowel nor a consonant\")"
   ]
  },
  {
   "cell_type": "markdown",
   "id": "63d9392c",
   "metadata": {},
   "source": [
    "# 8"
   ]
  },
  {
   "cell_type": "code",
   "execution_count": 3,
   "id": "0ca484fe",
   "metadata": {},
   "outputs": [
    {
     "name": "stdout",
     "output_type": "stream",
     "text": [
      "enter the sum:9\n",
      "(1, 8)\n",
      "(2, 7)\n",
      "(3, 6)\n",
      "(4, 5)\n",
      "(9, 0)\n"
     ]
    }
   ],
   "source": [
    "arr=[1,2,3,4,5,6,7,8,9,0]\n",
    "x=int(input(\"enter the sum:\"))\n",
    "for i in range (len(arr)):\n",
    "    for j in range (i+1,len(arr)):\n",
    "        if(arr[i]==arr[j]):\n",
    "            continue\n",
    "        elif(arr[i]+arr[j])==x:\n",
    "            print((arr[i],arr[j]))\n",
    "                "
   ]
  },
  {
   "cell_type": "markdown",
   "id": "7a925902",
   "metadata": {},
   "source": [
    "# 9"
   ]
  },
  {
   "cell_type": "code",
   "execution_count": 5,
   "id": "a14f3d00",
   "metadata": {},
   "outputs": [
    {
     "name": "stdout",
     "output_type": "stream",
     "text": [
      "120\n"
     ]
    }
   ],
   "source": [
    "arr=[-1,0,2,3,4,5,6]\n",
    "arr.sort()\n",
    "max_prdct1=arr[-1]*arr[-2]*arr[-3]\n",
    "max_prdct2=arr[0]*arr[1]*arr[-1]\n",
    "print(max(max_prdct1,max_prdct2))"
   ]
  },
  {
   "cell_type": "code",
   "execution_count": null,
   "id": "d484045e",
   "metadata": {},
   "outputs": [],
   "source": []
  }
 ],
 "metadata": {
  "kernelspec": {
   "display_name": "Python 3 (ipykernel)",
   "language": "python",
   "name": "python3"
  },
  "language_info": {
   "codemirror_mode": {
    "name": "ipython",
    "version": 3
   },
   "file_extension": ".py",
   "mimetype": "text/x-python",
   "name": "python",
   "nbconvert_exporter": "python",
   "pygments_lexer": "ipython3",
   "version": "3.11.4"
  }
 },
 "nbformat": 4,
 "nbformat_minor": 5
}
