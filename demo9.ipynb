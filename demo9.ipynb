{
 "cells": [
  {
   "cell_type": "markdown",
   "id": "aa845234",
   "metadata": {},
   "source": [
    "# files"
   ]
  },
  {
   "cell_type": "code",
   "execution_count": 1,
   "id": "1815527b",
   "metadata": {},
   "outputs": [
    {
     "name": "stdout",
     "output_type": "stream",
     "text": [
      "E:\\programs\\python\\basics\n"
     ]
    }
   ],
   "source": [
    "import os\n",
    "cwd=os.getcwd()#store current working dir\n",
    "print(cwd)#print current working dir"
   ]
  },
  {
   "cell_type": "code",
   "execution_count": 2,
   "id": "94cf6cb9",
   "metadata": {},
   "outputs": [
    {
     "name": "stdout",
     "output_type": "stream",
     "text": [
      "c:\\users\n"
     ]
    }
   ],
   "source": [
    "os.chdir('c:\\\\users')#change dir\n",
    "print(os.getcwd())"
   ]
  },
  {
   "cell_type": "code",
   "execution_count": null,
   "id": "74a715b2",
   "metadata": {},
   "outputs": [],
   "source": []
  }
 ],
 "metadata": {
  "kernelspec": {
   "display_name": "Python 3 (ipykernel)",
   "language": "python",
   "name": "python3"
  },
  "language_info": {
   "codemirror_mode": {
    "name": "ipython",
    "version": 3
   },
   "file_extension": ".py",
   "mimetype": "text/x-python",
   "name": "python",
   "nbconvert_exporter": "python",
   "pygments_lexer": "ipython3",
   "version": "3.11.4"
  }
 },
 "nbformat": 4,
 "nbformat_minor": 5
}
