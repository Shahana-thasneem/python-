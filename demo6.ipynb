{
 "cells": [
  {
   "cell_type": "code",
   "execution_count": 7,
   "id": "d7b358dd",
   "metadata": {},
   "outputs": [
    {
     "name": "stdout",
     "output_type": "stream",
     "text": [
      "1\n",
      "2\n",
      "3\n",
      "4\n",
      "5\n",
      "finished\n"
     ]
    }
   ],
   "source": [
    "i=1\n",
    "n=5\n",
    "while i <=n :\n",
    "     print(i)\n",
    "     i=i+1\n",
    "   \n",
    "print(\"finished\")"
   ]
  },
  {
   "cell_type": "code",
   "execution_count": 8,
   "id": "4d2c7521",
   "metadata": {},
   "outputs": [
    {
     "name": "stdout",
     "output_type": "stream",
     "text": [
      "total 5050\n"
     ]
    }
   ],
   "source": [
    "i=1\n",
    "n=100\n",
    "total=0\n",
    "while i<=n:\n",
    "    total=total+i\n",
    "    i=i+1\n",
    "print(\"total\",total)"
   ]
  },
  {
   "cell_type": "markdown",
   "id": "24ba501b",
   "metadata": {},
   "source": [
    "# program to reverse a number"
   ]
  },
  {
   "cell_type": "code",
   "execution_count": 10,
   "id": "4a031de8",
   "metadata": {},
   "outputs": [
    {
     "name": "stdout",
     "output_type": "stream",
     "text": [
      "enter the number:234\n",
      "the reversed number is: 432\n"
     ]
    }
   ],
   "source": [
    "num=int(input(\"enter the number:\"))\n",
    "rev=0\n",
    "while num!=0:\n",
    "    rem=num % 10\n",
    "    rev=rev*10+rem\n",
    "    num=num//10\n",
    "print(\"the reversed number is:\",rev)"
   ]
  },
  {
   "cell_type": "code",
   "execution_count": 12,
   "id": "9f0d4a5f",
   "metadata": {},
   "outputs": [
    {
     "name": "stdout",
     "output_type": "stream",
     "text": [
      "10\n",
      "9\n",
      "8\n",
      "7\n",
      "6\n",
      "5\n",
      "4\n",
      "3\n",
      "2\n",
      "1\n",
      "0\n",
      "finished\n"
     ]
    }
   ],
   "source": [
    "i=10\n",
    "n=0\n",
    "while i>=n:\n",
    "    print(i)\n",
    "    i=i-1\n",
    "print(\"finished\")"
   ]
  },
  {
   "cell_type": "code",
   "execution_count": 13,
   "id": "75cba6bd",
   "metadata": {},
   "outputs": [
    {
     "name": "stdout",
     "output_type": "stream",
     "text": [
      "5\n",
      "3\n",
      "6\n",
      "7\n",
      "9\n"
     ]
    }
   ],
   "source": [
    "my_list=[5,3,6,7,9]\n",
    "i=0\n",
    "while i<len(my_list):\n",
    "    print(my_list[i])\n",
    "    i=i+1\n"
   ]
  },
  {
   "cell_type": "markdown",
   "id": "d9d3b046",
   "metadata": {},
   "source": [
    "my_list=[3,4,5,6,8]\n",
    "i=0\n",
    "list_2=[]\n",
    "while i<len(my_list):\n",
    "    x=my_list[i]*my_list[i]\n",
    "    list_2.append(x)\n",
    "    i=i+1\n",
    "print(list_2)"
   ]
  },
  {
   "cell_type": "code",
   "execution_count": 16,
   "id": "ad995c0a",
   "metadata": {},
   "outputs": [
    {
     "name": "stdout",
     "output_type": "stream",
     "text": [
      "enter a number:56\n",
      "enter the number:78\n",
      "enter the number:89\n",
      "enter the number:54\n",
      "enter the number:6\n",
      "enter the number:0\n",
      "total = 283\n"
     ]
    }
   ],
   "source": [
    "total=0\n",
    "number=int(input(\"enter a number:\"))\n",
    "while number!=0:\n",
    "    total+=number\n",
    "    number=int(input(\"enter the number:\"))\n",
    "print(\"total =\",total)"
   ]
  },
  {
   "cell_type": "markdown",
   "id": "3b22c41f",
   "metadata": {},
   "source": [
    "# factorial"
   ]
  },
  {
   "cell_type": "code",
   "execution_count": 18,
   "id": "5a6eb126",
   "metadata": {},
   "outputs": [
    {
     "name": "stdout",
     "output_type": "stream",
     "text": [
      "enter the number:6\n",
      "factorial of 6 is 720\n"
     ]
    }
   ],
   "source": [
    "num=int(input(\"enter the number:\"))\n",
    "fac=1\n",
    "i=1\n",
    "while i<=num:\n",
    "    fac=fac*i\n",
    "    #print(fac)\n",
    "    i=i+1\n",
    "print(\"factorial of\",num,\"is\",fac)\n",
    "    "
   ]
  },
  {
   "cell_type": "markdown",
   "id": "6480c0c1",
   "metadata": {},
   "source": [
    "# break statement"
   ]
  },
  {
   "cell_type": "code",
   "execution_count": 19,
   "id": "c0993564",
   "metadata": {},
   "outputs": [
    {
     "name": "stdout",
     "output_type": "stream",
     "text": [
      "1\n",
      "2\n",
      "3\n",
      "4\n",
      "16\n"
     ]
    }
   ],
   "source": [
    "i=1\n",
    "while i<6:\n",
    "    print(i)\n",
    "    if i==4:\n",
    "        print(i*i)\n",
    "        break\n",
    "    i+=1"
   ]
  },
  {
   "cell_type": "markdown",
   "id": "241f5e64",
   "metadata": {},
   "source": [
    "# continue statement"
   ]
  },
  {
   "cell_type": "code",
   "execution_count": 2,
   "id": "ad373f3b",
   "metadata": {},
   "outputs": [
    {
     "name": "stdout",
     "output_type": "stream",
     "text": [
      "1\n",
      "2\n",
      "4\n",
      "5\n",
      "6\n"
     ]
    }
   ],
   "source": [
    "i=0\n",
    "while i<6:\n",
    "    i+=1\n",
    "    if i==3:\n",
    "        continue\n",
    "    print(i)"
   ]
  },
  {
   "cell_type": "code",
   "execution_count": null,
   "id": "3803d532",
   "metadata": {},
   "outputs": [],
   "source": []
  },
  {
   "cell_type": "code",
   "execution_count": null,
   "id": "4f438330",
   "metadata": {},
   "outputs": [],
   "source": []
  }
 ],
 "metadata": {
  "kernelspec": {
   "display_name": "Python 3 (ipykernel)",
   "language": "python",
   "name": "python3"
  },
  "language_info": {
   "codemirror_mode": {
    "name": "ipython",
    "version": 3
   },
   "file_extension": ".py",
   "mimetype": "text/x-python",
   "name": "python",
   "nbconvert_exporter": "python",
   "pygments_lexer": "ipython3",
   "version": "3.11.4"
  }
 },
 "nbformat": 4,
 "nbformat_minor": 5
}
