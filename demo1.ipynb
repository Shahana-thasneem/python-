{
 "cells": [
  {
   "cell_type": "code",
   "execution_count": 4,
   "id": "31e98868",
   "metadata": {},
   "outputs": [
    {
     "name": "stdout",
     "output_type": "stream",
     "text": [
      "hello\n",
      "world\n"
     ]
    }
   ],
   "source": [
    "    print(\"hello\")\n",
    "    print(\"world\")"
   ]
  },
  {
   "cell_type": "code",
   "execution_count": 10,
   "id": "2031f4a6",
   "metadata": {},
   "outputs": [
    {
     "name": "stdout",
     "output_type": "stream",
     "text": [
      "(3+6j) world orange\n"
     ]
    }
   ],
   "source": [
    "x=10\n",
    "y=\"world\"\n",
    "_num2=\"orange\"\n",
    "x=3+6j\n",
    "var1=6.8\n",
    "z=True\n",
    "print(x,y,_num2)"
   ]
  },
  {
   "cell_type": "code",
   "execution_count": 12,
   "id": "75bf2478",
   "metadata": {},
   "outputs": [
    {
     "name": "stdout",
     "output_type": "stream",
     "text": [
      "123\n"
     ]
    }
   ],
   "source": [
    "num1=56\n",
    "num2=67\n",
    "print(num1+num2)"
   ]
  },
  {
   "cell_type": "code",
   "execution_count": 14,
   "id": "0d3c23bc",
   "metadata": {},
   "outputs": [
    {
     "name": "stdout",
     "output_type": "stream",
     "text": [
      "123\n"
     ]
    }
   ],
   "source": [
    "num3=num1+num2\n",
    "print(num3)"
   ]
  },
  {
   "cell_type": "code",
   "execution_count": 16,
   "id": "1d4a6334",
   "metadata": {},
   "outputs": [
    {
     "name": "stdout",
     "output_type": "stream",
     "text": [
      "h a i\n"
     ]
    }
   ],
   "source": [
    "x,y,z=\"hai\"\n",
    "print(x,y,z)"
   ]
  },
  {
   "cell_type": "code",
   "execution_count": 17,
   "id": "55b34b4d",
   "metadata": {},
   "outputs": [
    {
     "name": "stdout",
     "output_type": "stream",
     "text": [
      "mango mango mango\n"
     ]
    }
   ],
   "source": [
    "x=y=z=\"mango\"\n",
    "print(x,y,z)"
   ]
  },
  {
   "cell_type": "code",
   "execution_count": 20,
   "id": "7ed77ff5",
   "metadata": {},
   "outputs": [
    {
     "name": "stdout",
     "output_type": "stream",
     "text": [
      "2 munch kitkat\n"
     ]
    }
   ],
   "source": [
    "x,y,z=2,\"munch\",\"kitkat\"\n",
    "print(x,y,z)"
   ]
  },
  {
   "cell_type": "code",
   "execution_count": null,
   "id": "81186130",
   "metadata": {},
   "outputs": [],
   "source": []
  }
 ],
 "metadata": {
  "kernelspec": {
   "display_name": "Python 3 (ipykernel)",
   "language": "python",
   "name": "python3"
  },
  "language_info": {
   "codemirror_mode": {
    "name": "ipython",
    "version": 3
   },
   "file_extension": ".py",
   "mimetype": "text/x-python",
   "name": "python",
   "nbconvert_exporter": "python",
   "pygments_lexer": "ipython3",
   "version": "3.11.4"
  }
 },
 "nbformat": 4,
 "nbformat_minor": 5
}
