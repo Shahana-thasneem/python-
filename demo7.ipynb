{
 "cells": [
  {
   "cell_type": "markdown",
   "id": "a7418940",
   "metadata": {},
   "source": [
    "# nested loops"
   ]
  },
  {
   "cell_type": "code",
   "execution_count": null,
   "id": "d538a2ee",
   "metadata": {},
   "outputs": [],
   "source": [
    "colors=[\"red,\"big\",\"tasty\"]\n",
    "fruits=[\"apple\",\"banana\",\"cherry\"]\n",
    "        "
   ]
  },
  {
   "cell_type": "code",
   "execution_count": 3,
   "id": "61b9ae5c",
   "metadata": {},
   "outputs": [
    {
     "name": "stdout",
     "output_type": "stream",
     "text": [
      "the sum of squares are: 7931\n"
     ]
    }
   ],
   "source": [
    "numbers=[2,3,5,6,7,8,88]\n",
    "sum_=0\n",
    "for num in numbers:\n",
    "    sqr=num**2\n",
    "    sum_=sum_+ sqr\n",
    "print(\"the sum of squares are:\",sum_)"
   ]
  },
  {
   "cell_type": "code",
   "execution_count": 5,
   "id": "e2f6673d",
   "metadata": {},
   "outputs": [
    {
     "name": "stdout",
     "output_type": "stream",
     "text": [
      "11 is a prime number\n",
      "13 is a prime number\n",
      "17 is a prime number\n",
      "19 is a prime number\n"
     ]
    }
   ],
   "source": [
    "for num in range(10,20):\n",
    "    for i in range(2,num):\n",
    "        if num%i==0:\n",
    "            j=num/i\n",
    "            break\n",
    "    else:\n",
    "            print(num,\"is a prime number\")"
   ]
  },
  {
   "cell_type": "code",
   "execution_count": 6,
   "id": "4f1ff59b",
   "metadata": {},
   "outputs": [
    {
     "name": "stdout",
     "output_type": "stream",
     "text": [
      "7+1=7\n",
      "7+2=14\n",
      "7+3=21\n",
      "7+4=28\n",
      "7+5=35\n",
      "7+6=42\n",
      "7+7=49\n",
      "7+8=56\n",
      "7+9=63\n",
      "7+10=70\n"
     ]
    }
   ],
   "source": [
    "n=7\n",
    "for i in range(1,11):\n",
    "    prdct=n*i\n",
    "    print(\"%d+%d=%d\"% (n,i,prdct))"
   ]
  },
  {
   "cell_type": "markdown",
   "id": "53072aa8",
   "metadata": {},
   "source": [
    "# pattern"
   ]
  },
  {
   "cell_type": "code",
   "execution_count": 7,
   "id": "f4d89b04",
   "metadata": {},
   "outputs": [
    {
     "name": "stdout",
     "output_type": "stream",
     "text": [
      "1  \n",
      "1 2  \n",
      "1 2 3  \n",
      "1 2 3 4  \n",
      "1 2 3 4 5  \n"
     ]
    }
   ],
   "source": [
    "row=5\n",
    "for i in range(1,row+1):\n",
    "    for j in range (1,i+1):\n",
    "        print(j,end=' ')\n",
    "    print(\" \")"
   ]
  },
  {
   "cell_type": "code",
   "execution_count": 12,
   "id": "a867755c",
   "metadata": {},
   "outputs": [
    {
     "name": "stdout",
     "output_type": "stream",
     "text": [
      "5 4 3 2 1 \n",
      "4 3 2 1 \n",
      "3 2 1 \n",
      "2 1 \n",
      "1 \n",
      "\n"
     ]
    }
   ],
   "source": [
    "n=5\n",
    "k=5\n",
    "for i in range(0,n+1):\n",
    "    for j in range (k-i,0,-1):\n",
    "        print(j,end=' ')\n",
    "    print()"
   ]
  },
  {
   "cell_type": "code",
   "execution_count": 13,
   "id": "bdddd707",
   "metadata": {},
   "outputs": [
    {
     "name": "stdout",
     "output_type": "stream",
     "text": [
      "0 0 0 0 0 \n",
      "1 1 1 1 \n",
      "2 2 2 \n",
      "3 3 \n",
      "4 \n",
      "\n"
     ]
    }
   ],
   "source": [
    "n=5\n",
    "k=5\n",
    "for i in range(0,n+1):\n",
    "    for j in range (k-i,0,-1):\n",
    "        print(i,end=' ')\n",
    "    print()"
   ]
  },
  {
   "cell_type": "code",
   "execution_count": 20,
   "id": "589c49b2",
   "metadata": {},
   "outputs": [
    {
     "name": "stdout",
     "output_type": "stream",
     "text": [
      "+  \n",
      "+ +  \n",
      "+ + +  \n",
      "+ + + +  \n",
      "+ + + + +  \n",
      "+ + + +  \n",
      "+ + +  \n",
      "+ +  \n",
      "+  \n",
      " \n"
     ]
    }
   ],
   "source": [
    "rows=5\n",
    "for i in range(0,rows):\n",
    "    for j in range(0, i + 1):\n",
    "        print(\"+\",end=' ')\n",
    "    print(\" \")\n",
    "    \n",
    "for i in range(rows, 0 , -1):\n",
    "    for j in range(0,i-1):\n",
    "        print(\"+\",end=' ')\n",
    "    print(\" \")\n",
    "    \n",
    "    \n",
    "    "
   ]
  },
  {
   "cell_type": "markdown",
   "id": "658edcdd",
   "metadata": {},
   "source": [
    "# list comprehension"
   ]
  },
  {
   "cell_type": "code",
   "execution_count": 2,
   "id": "229b7a8a",
   "metadata": {},
   "outputs": [
    {
     "name": "stdout",
     "output_type": "stream",
     "text": [
      "['kiwi']\n"
     ]
    }
   ],
   "source": [
    "fruits=[\"apple\",\"banana\",\"cherry\",\"kiwi\",\"mango\"]\n",
    "newlist=[]\n",
    "for x in fruits:\n",
    "    if \"w\" in x:\n",
    "        newlist.append(x)\n",
    "print(newlist)"
   ]
  },
  {
   "cell_type": "code",
   "execution_count": 22,
   "id": "d7bfe61a",
   "metadata": {},
   "outputs": [
    {
     "name": "stdout",
     "output_type": "stream",
     "text": [
      "['apple', 'banana', 'mango']\n"
     ]
    }
   ],
   "source": [
    "fruits=[\"apple\",\"banana\",\"cherry\",\"kiwi\",\"mango\"]\n",
    "newlist=[x for x in fruits if \"a\" in x]\n",
    "print(newlist)"
   ]
  },
  {
   "cell_type": "code",
   "execution_count": 23,
   "id": "435a75be",
   "metadata": {},
   "outputs": [
    {
     "name": "stdout",
     "output_type": "stream",
     "text": [
      "[0, 1, 4, 9, 16, 25, 36, 49, 64, 81]\n"
     ]
    }
   ],
   "source": [
    "new=[x*x for x in range(10)]\n",
    "print(new)"
   ]
  },
  {
   "cell_type": "code",
   "execution_count": 24,
   "id": "12d19ae9",
   "metadata": {},
   "outputs": [
    {
     "name": "stdout",
     "output_type": "stream",
     "text": [
      "['APPLE', 'BANANA', 'CHERRY', 'KIWI', 'MANGO']\n"
     ]
    }
   ],
   "source": [
    "new=[x.upper() for x in fruits]\n",
    "print(new)"
   ]
  },
  {
   "cell_type": "code",
   "execution_count": 25,
   "id": "1f8e8e44",
   "metadata": {},
   "outputs": [
    {
     "name": "stdout",
     "output_type": "stream",
     "text": [
      "['apple', 'banana', 'cherry', 'kiwi', 'mango']\n"
     ]
    }
   ],
   "source": [
    "new=[x for x in fruits]\n",
    "print(new)"
   ]
  },
  {
   "cell_type": "code",
   "execution_count": 27,
   "id": "f44ca968",
   "metadata": {},
   "outputs": [
    {
     "name": "stdout",
     "output_type": "stream",
     "text": [
      "['apple', 'banana', 'cherry', 'kiwi']\n"
     ]
    }
   ],
   "source": [
    "new=[x for x in fruits if x!=\"mango\"]\n",
    "print(new)"
   ]
  },
  {
   "cell_type": "markdown",
   "id": "a6e827b4",
   "metadata": {},
   "source": [
    "# enumerate()"
   ]
  },
  {
   "cell_type": "code",
   "execution_count": 31,
   "id": "e5edbbf5",
   "metadata": {},
   "outputs": [
    {
     "name": "stdout",
     "output_type": "stream",
     "text": [
      "0 the\n",
      "1 big\n",
      "2 bang\n",
      "3 theory\n"
     ]
    }
   ],
   "source": [
    "for key,value in enumerate([\"the\",\"big\",\"bang\",\"theory\"]):\n",
    " print(key,value)"
   ]
  },
  {
   "cell_type": "code",
   "execution_count": 33,
   "id": "ad18bae5",
   "metadata": {},
   "outputs": [
    {
     "name": "stdout",
     "output_type": "stream",
     "text": [
      "<class 'enumerate'>\n"
     ]
    }
   ],
   "source": [
    "grocery=[\"milk\",\"egg\",\"bread\",\"butter\"]\n",
    "enumerategrocery=enumerate(grocery)\n",
    "print(type(enumerategrocery))"
   ]
  },
  {
   "cell_type": "markdown",
   "id": "f733eae6",
   "metadata": {},
   "source": [
    "# zip()"
   ]
  },
  {
   "cell_type": "code",
   "execution_count": 34,
   "id": "d6a92196",
   "metadata": {},
   "outputs": [
    {
     "name": "stdout",
     "output_type": "stream",
     "text": [
      "what is your name? iam apple\n",
      "what is your color? iam red\n",
      "what is your shape? iam a shape\n"
     ]
    }
   ],
   "source": [
    "qns=[\"name\",\"color\",\"shape\"]\n",
    "ans=[\"apple\",\"red\",\"a shape\"]\n",
    "for qns,ans in zip(qns,ans):\n",
    "    print(\"what is your {0}? iam {1}\".format(qns,ans))"
   ]
  },
  {
   "cell_type": "markdown",
   "id": "02d13369",
   "metadata": {},
   "source": [
    "# sorted()"
   ]
  },
  {
   "cell_type": "code",
   "execution_count": 35,
   "id": "5353810f",
   "metadata": {},
   "outputs": [
    {
     "name": "stdout",
     "output_type": "stream",
     "text": [
      "the list in sorted order is:\n",
      "2 2 3 4 5 5 6 6 7 15 \r\n",
      "the list in sorted order(without duplicates)is:\n",
      "2 3 4 5 6 7 15 "
     ]
    }
   ],
   "source": [
    "list0=[2,3,4,5,5,6,6,7,2,15]\n",
    "print(\"the list in sorted order is:\")\n",
    "for i in sorted(list0):\n",
    "    print(i,end=\" \")\n",
    "print(\"\\r\")\n",
    "print(\"the list in sorted order(without duplicates)is:\")\n",
    "for i in sorted(set(list0)):\n",
    "    print(i,end=\" \")"
   ]
  },
  {
   "cell_type": "code",
   "execution_count": 36,
   "id": "20bdec9b",
   "metadata": {},
   "outputs": [
    {
     "name": "stdout",
     "output_type": "stream",
     "text": [
      "the list in reverse order is:\n",
      "15 2 7 6 6 5 5 4 3 2 "
     ]
    }
   ],
   "source": [
    "list0=[2,3,4,5,5,6,6,7,2,15]\n",
    "print(\"the list in reverse order is:\")\n",
    "for i in reversed(list0):\n",
    "    print(i,end=\" \")"
   ]
  },
  {
   "cell_type": "code",
   "execution_count": null,
   "id": "c91e12cc",
   "metadata": {},
   "outputs": [],
   "source": []
  }
 ],
 "metadata": {
  "kernelspec": {
   "display_name": "Python 3 (ipykernel)",
   "language": "python",
   "name": "python3"
  },
  "language_info": {
   "codemirror_mode": {
    "name": "ipython",
    "version": 3
   },
   "file_extension": ".py",
   "mimetype": "text/x-python",
   "name": "python",
   "nbconvert_exporter": "python",
   "pygments_lexer": "ipython3",
   "version": "3.11.4"
  }
 },
 "nbformat": 4,
 "nbformat_minor": 5
}
