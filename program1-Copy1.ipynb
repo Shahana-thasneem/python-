{
 "cells": [
  {
   "cell_type": "markdown",
   "id": "9822cdb8",
   "metadata": {},
   "source": [
    "# 1"
   ]
  },
  {
   "cell_type": "code",
   "execution_count": 1,
   "id": "9871c5f0",
   "metadata": {},
   "outputs": [
    {
     "name": "stdout",
     "output_type": "stream",
     "text": [
      "Hello,How Are You?\n"
     ]
    }
   ],
   "source": [
    "print(\"Hello,How Are You?\")"
   ]
  },
  {
   "cell_type": "markdown",
   "id": "af3dedfb",
   "metadata": {},
   "source": [
    "# 2"
   ]
  },
  {
   "cell_type": "code",
   "execution_count": 2,
   "id": "5a98bfcd",
   "metadata": {},
   "outputs": [
    {
     "name": "stdout",
     "output_type": "stream",
     "text": [
      "enter your name:shana\n",
      "welcome shana\n"
     ]
    }
   ],
   "source": [
    "x=input(\"enter your name:\")\n",
    "y=\"welcome \" + x \n",
    "print(y)"
   ]
  },
  {
   "cell_type": "markdown",
   "id": "a511447f",
   "metadata": {},
   "source": [
    "# 3"
   ]
  },
  {
   "cell_type": "code",
   "execution_count": 4,
   "id": "9019a862",
   "metadata": {},
   "outputs": [
    {
     "name": "stdout",
     "output_type": "stream",
     "text": [
      "Enter the first number:39\n",
      "Enter the second number:98\n",
      "the sum is: 137\n"
     ]
    }
   ],
   "source": [
    "num_1=int(input(\"Enter the first number:\"))\n",
    "num_2=int(input(\"Enter the second number:\"))\n",
    "num_3=num_1+num_2\n",
    "print(\"the sum is:\",num_3)"
   ]
  },
  {
   "cell_type": "markdown",
   "id": "d43304d6",
   "metadata": {},
   "source": [
    "# 4"
   ]
  },
  {
   "cell_type": "code",
   "execution_count": 5,
   "id": "c78264ca",
   "metadata": {},
   "outputs": [
    {
     "name": "stdout",
     "output_type": "stream",
     "text": [
      "Enter the string:mango\n",
      "5\n"
     ]
    }
   ],
   "source": [
    "x=str(input(\"Enter the string:\"))\n",
    "print(len(x))"
   ]
  },
  {
   "cell_type": "markdown",
   "id": "8b7604bc",
   "metadata": {},
   "source": [
    "# 5"
   ]
  },
  {
   "cell_type": "code",
   "execution_count": 10,
   "id": "b86d3079",
   "metadata": {},
   "outputs": [
    {
     "name": "stdout",
     "output_type": "stream",
     "text": [
      "enter the sentence:india is our country.\n",
      "4\n"
     ]
    }
   ],
   "source": [
    "x=input(\"enter the sentence:\")\n",
    "y=len(x.split())\n",
    "print(y)"
   ]
  },
  {
   "cell_type": "markdown",
   "id": "92124b32",
   "metadata": {},
   "source": [
    "# 6"
   ]
  },
  {
   "cell_type": "code",
   "execution_count": 3,
   "id": "6d7f26f2",
   "metadata": {},
   "outputs": [
    {
     "name": "stdout",
     "output_type": "stream",
     "text": [
      "Enter the string:She is A gOOd Girl\n",
      "The number of uppercase is: 5\n"
     ]
    }
   ],
   "source": [
    "text=input(\"Enter the string:\")\n",
    "count=0\n",
    "for i in text:\n",
    "    if(i.isupper()):\n",
    "        count += 1\n",
    "print(\"The number of uppercase is:\",count)"
   ]
  },
  {
   "cell_type": "markdown",
   "id": "c62aa18e",
   "metadata": {},
   "source": [
    "# 7"
   ]
  },
  {
   "cell_type": "code",
   "execution_count": 1,
   "id": "c2a1b0a8",
   "metadata": {},
   "outputs": [
    {
     "name": "stdout",
     "output_type": "stream",
     "text": [
      "enter the sentence:i have a beautiful home.\n",
      "I HAVE A BEAUTIFUL HOME.\n"
     ]
    }
   ],
   "source": [
    "x=input(\"enter the sentence:\")\n",
    "print(x.upper())"
   ]
  },
  {
   "cell_type": "markdown",
   "id": "5fe16bc0",
   "metadata": {},
   "source": [
    "# 8"
   ]
  },
  {
   "cell_type": "code",
   "execution_count": 2,
   "id": "47e21172",
   "metadata": {},
   "outputs": [
    {
     "name": "stdout",
     "output_type": "stream",
     "text": [
      "enter the string:anaconda\n",
      "eneconde\n"
     ]
    }
   ],
   "source": [
    "text=input(\"enter the string:\")\n",
    "x=text.replace(\"a\",\"e\")\n",
    "print(x)"
   ]
  },
  {
   "cell_type": "markdown",
   "id": "33abd663",
   "metadata": {},
   "source": [
    "# 9"
   ]
  },
  {
   "cell_type": "code",
   "execution_count": 9,
   "id": "c015d091",
   "metadata": {},
   "outputs": [
    {
     "name": "stdout",
     "output_type": "stream",
     "text": [
      "enter the string:orange\n",
      "the string is not a palindrome\n"
     ]
    }
   ],
   "source": [
    "text=input(\"enter the string:\")\n",
    "temp=text[::-1]\n",
    "if(text==temp):\n",
    "    print(\"the string is a palindrome\")\n",
    "else:\n",
    "    print(\"the string is not a palindrome\")"
   ]
  },
  {
   "cell_type": "markdown",
   "id": "4351d3ed",
   "metadata": {},
   "source": [
    "# 10"
   ]
  },
  {
   "cell_type": "code",
   "execution_count": 20,
   "id": "3230658f",
   "metadata": {},
   "outputs": [
    {
     "name": "stdout",
     "output_type": "stream",
     "text": [
      "enter the string:dimple\n",
      "enter the word:gym\n",
      "substring is not present\n"
     ]
    }
   ],
   "source": [
    "str=input(\"enter the string:\")\n",
    "sub_str=input(\"enter the word:\")\n",
    "if(str.find(sub_str)==-1):\n",
    "    print(\"substring is not present\")\n",
    "else:\n",
    "    print(\"substring is present\")"
   ]
  },
  {
   "cell_type": "markdown",
   "id": "2b461ade",
   "metadata": {},
   "source": [
    "# 11"
   ]
  },
  {
   "cell_type": "code",
   "execution_count": 2,
   "id": "a5dd0409",
   "metadata": {},
   "outputs": [
    {
     "name": "stdout",
     "output_type": "stream",
     "text": [
      "enter the sentence:welcome to my home\n",
      "reversed string: ['home', 'my', 'to', 'welcome']\n"
     ]
    }
   ],
   "source": [
    "str=(input(\"enter the sentence:\"))\n",
    "split_str=str.split()\n",
    "reversed_str=split_str[::-1]\n",
    "print(\"reversed string:\", reversed_str)"
   ]
  },
  {
   "cell_type": "markdown",
   "id": "10206fc1",
   "metadata": {},
   "source": [
    "# 12"
   ]
  },
  {
   "cell_type": "code",
   "execution_count": 7,
   "id": "55aa84f8",
   "metadata": {},
   "outputs": [
    {
     "name": "stdout",
     "output_type": "stream",
     "text": [
      "enter the sentence:she is a courageous girl\n",
      "courageous\n"
     ]
    }
   ],
   "source": [
    "str=input(\"enter the sentence:\")\n",
    "split_str=str.split()\n",
    "longest_word=max(split_str,key=len)\n",
    "print(longest_word)"
   ]
  }
 ],
 "metadata": {
  "kernelspec": {
   "display_name": "Python 3 (ipykernel)",
   "language": "python",
   "name": "python3"
  },
  "language_info": {
   "codemirror_mode": {
    "name": "ipython",
    "version": 3
   },
   "file_extension": ".py",
   "mimetype": "text/x-python",
   "name": "python",
   "nbconvert_exporter": "python",
   "pygments_lexer": "ipython3",
   "version": "3.11.4"
  }
 },
 "nbformat": 4,
 "nbformat_minor": 5
}
