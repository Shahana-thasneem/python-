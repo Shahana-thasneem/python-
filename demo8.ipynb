{
 "cells": [
  {
   "cell_type": "markdown",
   "id": "735bbb28",
   "metadata": {},
   "source": [
    "# 1"
   ]
  },
  {
   "cell_type": "code",
   "execution_count": 2,
   "id": "1e4c3cd0",
   "metadata": {},
   "outputs": [
    {
     "name": "stdout",
     "output_type": "stream",
     "text": [
      "{'brand': 'ford', 'model': 'mustang', 'year': -58}\n"
     ]
    }
   ],
   "source": [
    "d={\n",
    "    \"brand\":\"ford\",\n",
    "    \"model\":\"mustang\",\n",
    "    \"year\":1976-2034\n",
    "}\n",
    "print(d)"
   ]
  },
  {
   "cell_type": "code",
   "execution_count": 3,
   "id": "2ba5d63b",
   "metadata": {},
   "outputs": [
    {
     "name": "stdout",
     "output_type": "stream",
     "text": [
      "{'brand': 'ford', 'model': 'mustang', 'year': 2000}\n"
     ]
    }
   ],
   "source": [
    "d={\n",
    "    \"brand\":\"ford\",\n",
    "    \"model\":\"mustang\",\n",
    "    \"year\":1976,\n",
    "    \"year\":2000\n",
    "}\n",
    "print(d)"
   ]
  },
  {
   "cell_type": "code",
   "execution_count": 9,
   "id": "8b956323",
   "metadata": {},
   "outputs": [
    {
     "name": "stdout",
     "output_type": "stream",
     "text": [
      "mustang 2000\n"
     ]
    }
   ],
   "source": [
    "d={\n",
    "    \"brand\":\"ford\",\n",
    "    \"model\":\"mustang\",\n",
    "    \"year\":1976,\n",
    "    \"year\":2000\n",
    "}\n",
    "x=d[\"model\"]\n",
    "y=d[\"year\"]\n",
    "z=d[\"brand\"]\n",
    "print(x,y)"
   ]
  },
  {
   "cell_type": "code",
   "execution_count": 12,
   "id": "d8d4d942",
   "metadata": {},
   "outputs": [
    {
     "name": "stdout",
     "output_type": "stream",
     "text": [
      "dict_keys(['brand', 'model', 'year'])\n",
      "dict_values(['ford', 'mustang', 2000])\n",
      "dict_items([('brand', 'ford'), ('model', 'mustang'), ('year', 2000)])\n"
     ]
    }
   ],
   "source": [
    "x=d.keys()\n",
    "print(x)\n",
    "y=d.values()\n",
    "print(y)\n",
    "z=d.items()\n",
    "print(z)"
   ]
  },
  {
   "cell_type": "markdown",
   "id": "031caa6c",
   "metadata": {},
   "source": [
    "# update dictionary"
   ]
  },
  {
   "cell_type": "code",
   "execution_count": 15,
   "id": "0581bf21",
   "metadata": {},
   "outputs": [
    {
     "name": "stdout",
     "output_type": "stream",
     "text": [
      "{'brand': 'ford', 'model': 'mustang', 'year': 2023}\n"
     ]
    }
   ],
   "source": [
    "dict1={\n",
    "    \"brand\":\"ford\",\n",
    "    \"model\":\"mustang\",\n",
    "    \"year\":1976,\n",
    "    \"year\":2000\n",
    "}\n",
    "dict1.update({\"year\":2023})\n",
    "print(dict1)"
   ]
  },
  {
   "cell_type": "markdown",
   "id": "37ff55de",
   "metadata": {},
   "source": [
    "# removing items"
   ]
  },
  {
   "cell_type": "code",
   "execution_count": 4,
   "id": "209f6a53",
   "metadata": {},
   "outputs": [
    {
     "name": "stdout",
     "output_type": "stream",
     "text": [
      "{'brand': 'ford', 'model': 'mustang'}\n"
     ]
    }
   ],
   "source": [
    "dict1={\n",
    "    \"brand\":\"ford\",\n",
    "    \"model\":\"mustang\",\n",
    "    \"year\":1976,\n",
    "    \"year\":2000\n",
    "}\n",
    "dict1.popitem()\n",
    "print(dict1)\n"
   ]
  },
  {
   "cell_type": "code",
   "execution_count": 5,
   "id": "d83b1487",
   "metadata": {},
   "outputs": [
    {
     "name": "stdout",
     "output_type": "stream",
     "text": [
      "{}\n"
     ]
    }
   ],
   "source": [
    "dict1.clear()\n",
    "print(dict1)"
   ]
  },
  {
   "cell_type": "code",
   "execution_count": 9,
   "id": "0a9c0210",
   "metadata": {},
   "outputs": [
    {
     "name": "stdout",
     "output_type": "stream",
     "text": [
      "ford\n",
      "mustang\n",
      "2000\n"
     ]
    }
   ],
   "source": [
    "dict1={\n",
    "    \"brand\":\"ford\",\n",
    "    \"model\":\"mustang\",\n",
    "    \"year\":1976,\n",
    "    \"year\":2000\n",
    "}\n",
    "for i in dict1:\n",
    "    print(dict1[i])"
   ]
  },
  {
   "cell_type": "code",
   "execution_count": 10,
   "id": "46cfabe4",
   "metadata": {},
   "outputs": [
    {
     "name": "stdout",
     "output_type": "stream",
     "text": [
      "brand\n",
      "model\n",
      "year\n"
     ]
    }
   ],
   "source": [
    "for i in dict1:\n",
    "    print(i)"
   ]
  },
  {
   "cell_type": "markdown",
   "id": "ddf634b4",
   "metadata": {},
   "source": [
    "# sorted"
   ]
  },
  {
   "cell_type": "code",
   "execution_count": 11,
   "id": "9f148ce1",
   "metadata": {},
   "outputs": [
    {
     "name": "stdout",
     "output_type": "stream",
     "text": [
      "banana -> 1.35\n",
      "bread -> 3.5\n",
      "butter -> 5.0\n"
     ]
    }
   ],
   "source": [
    "prices={'bread':3.5,'butter':5.0,'banana':1.35}\n",
    "for k in sorted (prices.keys()):\n",
    "    print(k,'->',prices[k])"
   ]
  },
  {
   "cell_type": "markdown",
   "id": "5244eb96",
   "metadata": {},
   "source": [
    "# copy a dictionary"
   ]
  },
  {
   "cell_type": "code",
   "execution_count": null,
   "id": "e3896ee3",
   "metadata": {},
   "outputs": [],
   "source": [
    "dct={\n",
    "    \"brand\":\"ford\",\n",
    "    \"model\":\"mustang\",\n",
    "    \"year\":1976,\n",
    "    \"year\":2000\n",
    "}\n",
    "dct="
   ]
  },
  {
   "cell_type": "code",
   "execution_count": 26,
   "id": "b4212516",
   "metadata": {},
   "outputs": [
    {
     "name": "stdout",
     "output_type": "stream",
     "text": [
      "abc\n",
      "is\n",
      "best\n",
      "34\n",
      "19\n",
      "198\n",
      "{'best': 'bes2'}\n"
     ]
    }
   ],
   "source": [
    "test_dict1={\"abc\":20,\"is\":36,\"best\":100}\n",
    "test_dict2={\"gfh\":34,\"is2\":19,\"bes2\":198}\n",
    "combined_dict={key:value\n",
    "for key,value in test_dict2.items()}\n",
    "\n",
    "print(combined_dict)"
   ]
  },
  {
   "cell_type": "code",
   "execution_count": null,
   "id": "2ff49b46",
   "metadata": {},
   "outputs": [],
   "source": []
  }
 ],
 "metadata": {
  "kernelspec": {
   "display_name": "Python 3 (ipykernel)",
   "language": "python",
   "name": "python3"
  },
  "language_info": {
   "codemirror_mode": {
    "name": "ipython",
    "version": 3
   },
   "file_extension": ".py",
   "mimetype": "text/x-python",
   "name": "python",
   "nbconvert_exporter": "python",
   "pygments_lexer": "ipython3",
   "version": "3.11.4"
  }
 },
 "nbformat": 4,
 "nbformat_minor": 5
}
