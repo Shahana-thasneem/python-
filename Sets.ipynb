{
 "cells": [
  {
   "cell_type": "markdown",
   "id": "33ef97ef",
   "metadata": {},
   "source": [
    "# 1"
   ]
  },
  {
   "cell_type": "code",
   "execution_count": 6,
   "id": "4fc0c3d3",
   "metadata": {},
   "outputs": [
    {
     "name": "stdout",
     "output_type": "stream",
     "text": [
      "sets have common elements\n"
     ]
    }
   ],
   "source": [
    "set1={2,4,6,8}\n",
    "set2={4,8,12,16}\n",
    "x=set1.intersection(set2)\n",
    "if x:\n",
    "    print(\"sets have common elements\")\n",
    "else:\n",
    "    print(\"no common elements\")"
   ]
  },
  {
   "cell_type": "markdown",
   "id": "76e26ae6",
   "metadata": {},
   "source": [
    "# 2"
   ]
  },
  {
   "cell_type": "code",
   "execution_count": 7,
   "id": "9a89f15a",
   "metadata": {},
   "outputs": [
    {
     "name": "stdout",
     "output_type": "stream",
     "text": [
      "{25, 5, 15}\n"
     ]
    }
   ],
   "source": [
    "set1={5,10,15,20,25}\n",
    "set2={10,20,30,40,50}\n",
    "x=set1.difference(set2)\n",
    "print(x)"
   ]
  },
  {
   "cell_type": "markdown",
   "id": "d89f9aba",
   "metadata": {},
   "source": [
    "# 3"
   ]
  },
  {
   "cell_type": "code",
   "execution_count": 8,
   "id": "41c2dc80",
   "metadata": {},
   "outputs": [
    {
     "name": "stdout",
     "output_type": "stream",
     "text": [
      "{18, 3, 24, 9, 30, 15}\n"
     ]
    }
   ],
   "source": [
    "set1={6,12,18,24,30}\n",
    "set2={3,6,9,12,15}\n",
    "x=set2.symmetric_difference(set1)\n",
    "print(x)"
   ]
  },
  {
   "cell_type": "markdown",
   "id": "e25e246d",
   "metadata": {},
   "source": [
    "# 4"
   ]
  },
  {
   "cell_type": "code",
   "execution_count": 11,
   "id": "4a003073",
   "metadata": {},
   "outputs": [
    {
     "name": "stdout",
     "output_type": "stream",
     "text": [
      "{2, 3, 4, 5, 6, 7, 8}\n"
     ]
    }
   ],
   "source": [
    "list1=[2,3,4,5,6,7,8,2,6]\n",
    "x=set(list1)\n",
    "print(x)"
   ]
  },
  {
   "cell_type": "markdown",
   "id": "10a024f2",
   "metadata": {},
   "source": [
    "# 5"
   ]
  },
  {
   "cell_type": "code",
   "execution_count": 14,
   "id": "d95751d5",
   "metadata": {},
   "outputs": [
    {
     "name": "stdout",
     "output_type": "stream",
     "text": [
      "{0, 2, 3, 4, 6, 7, 8, 9}\n"
     ]
    }
   ],
   "source": [
    "set1={2,4,6,8,0}\n",
    "set2={3,6,9,0,7}\n",
    "new_set=set1.union(set2)\n",
    "x=set(new_set)\n",
    "print(x)"
   ]
  },
  {
   "cell_type": "markdown",
   "id": "8bf68419",
   "metadata": {},
   "source": [
    "# 6"
   ]
  },
  {
   "cell_type": "code",
   "execution_count": 18,
   "id": "8a6047a2",
   "metadata": {},
   "outputs": [
    {
     "name": "stdout",
     "output_type": "stream",
     "text": [
      "it is a subset of set1\n"
     ]
    }
   ],
   "source": [
    "set1={7,14,21,28,35,42}\n",
    "subset={7,42}\n",
    "check=subset.issubset(set1)\n",
    "if check:\n",
    "    print(\"it is a subset of set1\")\n",
    "else:\n",
    "    print(\"it is not a subset\")"
   ]
  },
  {
   "cell_type": "markdown",
   "id": "83db85ef",
   "metadata": {},
   "source": [
    "# 7"
   ]
  },
  {
   "cell_type": "markdown",
   "id": "2a15992c",
   "metadata": {},
   "source": [
    "set1={7,14,21,28,35,42}\n",
    "x=max(set1)\n",
    "y=min(set1)\n",
    "print(x,y)"
   ]
  },
  {
   "cell_type": "markdown",
   "id": "e1d589d1",
   "metadata": {},
   "source": [
    "# 8"
   ]
  },
  {
   "cell_type": "code",
   "execution_count": 27,
   "id": "7311f043",
   "metadata": {},
   "outputs": [
    {
     "name": "stdout",
     "output_type": "stream",
     "text": [
      "set()\n"
     ]
    }
   ],
   "source": [
    "set2={10,20,30,40,50}\n",
    "set2.clear()\n",
    "print(set2)"
   ]
  },
  {
   "cell_type": "markdown",
   "id": "8cabef25",
   "metadata": {},
   "source": [
    "# 9"
   ]
  },
  {
   "cell_type": "code",
   "execution_count": 29,
   "id": "4494c058",
   "metadata": {},
   "outputs": [
    {
     "name": "stdout",
     "output_type": "stream",
     "text": [
      "{0, 1, 2, 3, 4, 5, 6, 7, 8, 9}\n"
     ]
    }
   ],
   "source": [
    "set1={0,1,2,3,4,5}\n",
    "set2={4,3,3,4,5,1}\n",
    "set3={6,7,8,9}\n",
    "x=set1.union(set2)\n",
    "updated_set=x.union(set3)\n",
    "print(updated_set)"
   ]
  },
  {
   "cell_type": "markdown",
   "id": "4fd37123",
   "metadata": {},
   "source": [
    "# 10"
   ]
  },
  {
   "cell_type": "code",
   "execution_count": 30,
   "id": "3b12b025",
   "metadata": {},
   "outputs": [
    {
     "name": "stdout",
     "output_type": "stream",
     "text": [
      "210\n"
     ]
    }
   ],
   "source": [
    "set0={10,20,30,40,50,60}\n",
    "sum0=sum(set0)\n",
    "print(sum0)"
   ]
  },
  {
   "cell_type": "code",
   "execution_count": null,
   "id": "7ab8d902",
   "metadata": {},
   "outputs": [],
   "source": []
  }
 ],
 "metadata": {
  "kernelspec": {
   "display_name": "Python 3 (ipykernel)",
   "language": "python",
   "name": "python3"
  },
  "language_info": {
   "codemirror_mode": {
    "name": "ipython",
    "version": 3
   },
   "file_extension": ".py",
   "mimetype": "text/x-python",
   "name": "python",
   "nbconvert_exporter": "python",
   "pygments_lexer": "ipython3",
   "version": "3.11.4"
  }
 },
 "nbformat": 4,
 "nbformat_minor": 5
}
