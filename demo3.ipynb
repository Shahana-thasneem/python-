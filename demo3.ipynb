{
 "cells": [
  {
   "cell_type": "code",
   "execution_count": 2,
   "id": "8ab0dd83",
   "metadata": {},
   "outputs": [
    {
     "name": "stdout",
     "output_type": "stream",
     "text": [
      "addition is: 79\n",
      "subtraction is: 33\n",
      "multipliacation is: 1288\n",
      "division is: 2.4347826086956523\n",
      "modulos is: 10\n",
      "floor division is: 2\n",
      "exponentiation is: 16155656889615734329398214425629966729216\n"
     ]
    }
   ],
   "source": [
    "x=56\n",
    "y=23\n",
    "addition=x+y\n",
    "subtraction=x-y\n",
    "multiplication=x*y\n",
    "division=x/y\n",
    "exponentiation=x**y\n",
    "floordivision=x//y\n",
    "modulos=x%y\n",
    "print(\"addition is:\",addition)\n",
    "print(\"subtraction is:\",subtraction)\n",
    "print(\"multipliacation is:\",multiplication)\n",
    "print(\"division is:\",division)\n",
    "print(\"modulos is:\",modulos)\n",
    "print(\"floor division is:\",floordivision)\n",
    "print(\"exponentiation is:\",exponentiation)"
   ]
  },
  {
   "cell_type": "code",
   "execution_count": 10,
   "id": "afa8c1ec",
   "metadata": {},
   "outputs": [
    {
     "name": "stdout",
     "output_type": "stream",
     "text": [
      "False\n",
      "True\n",
      "True\n",
      "False\n",
      "False\n",
      "True\n",
      "False\n",
      "True\n",
      "True\n",
      "False\n",
      "False\n"
     ]
    }
   ],
   "source": [
    "x=[\"apple\",\"banana\"]\n",
    "y=[\"apple\",\"banana\"]\n",
    "z=x\n",
    "print(x is y)\n",
    "print(x is z)\n",
    "print(x is not y)\n",
    "print(x is not z)\n",
    "print(y is z)\n",
    "print(y is not z)\n",
    "print(x!=y)\n",
    "print(x==y)\n",
    "print(\"banana\" in x)\n",
    "print(\"banana\" not in x)\n",
    "print(\"jackfruit\" in y)"
   ]
  },
  {
   "cell_type": "code",
   "execution_count": 3,
   "id": "8e7a843b",
   "metadata": {},
   "outputs": [
    {
     "name": "stdout",
     "output_type": "stream",
     "text": [
      "11 55 88\n",
      "8\n",
      "[33, 44, 55]\n"
     ]
    }
   ],
   "source": [
    "numbers=[11,22,33,44,55,66,77,88]\n",
    "first_element=numbers[0]\n",
    "second_element=numbers[4]\n",
    "third_element=numbers[-1]\n",
    "print(first_element,second_element,third_element)\n",
    "print(len(numbers))\n",
    "print(numbers[2:5])"
   ]
  },
  {
   "cell_type": "markdown",
   "id": "f9a99585",
   "metadata": {},
   "source": [
    "# adding elements"
   ]
  },
  {
   "cell_type": "code",
   "execution_count": 5,
   "id": "21199fd1",
   "metadata": {},
   "outputs": [
    {
     "name": "stdout",
     "output_type": "stream",
     "text": [
      "['apple', 'banana', 'cherry']\n",
      "['apple', 'orange', 'banana', 'cherry']\n"
     ]
    }
   ],
   "source": [
    "fruits=[\"apple\",\"banana\"]\n",
    "fruits.append(\"cherry\")\n",
    "print(fruits)\n",
    "fruits.insert(1,\"orange\")\n",
    "print(fruits)"
   ]
  },
  {
   "cell_type": "markdown",
   "id": "2ef22f01",
   "metadata": {},
   "source": [
    "# extending list"
   ]
  },
  {
   "cell_type": "code",
   "execution_count": 7,
   "id": "71826721",
   "metadata": {},
   "outputs": [
    {
     "ename": "AttributeError",
     "evalue": "'list' object attribute 'extend' is read-only",
     "output_type": "error",
     "traceback": [
      "\u001b[1;31m---------------------------------------------------------------------------\u001b[0m",
      "\u001b[1;31mAttributeError\u001b[0m                            Traceback (most recent call last)",
      "Cell \u001b[1;32mIn[7], line 3\u001b[0m\n\u001b[0;32m      1\u001b[0m fruits\u001b[38;5;241m=\u001b[39m[\u001b[38;5;124m\"\u001b[39m\u001b[38;5;124mapple\u001b[39m\u001b[38;5;124m\"\u001b[39m,\u001b[38;5;124m\"\u001b[39m\u001b[38;5;124mbanana\u001b[39m\u001b[38;5;124m\"\u001b[39m]\n\u001b[0;32m      2\u001b[0m more_fruits\u001b[38;5;241m=\u001b[39m[\u001b[38;5;124m\"\u001b[39m\u001b[38;5;124morange\u001b[39m\u001b[38;5;124m\"\u001b[39m,\u001b[38;5;124m\"\u001b[39m\u001b[38;5;124mcherry\u001b[39m\u001b[38;5;124m\"\u001b[39m]\n\u001b[1;32m----> 3\u001b[0m fruits\u001b[38;5;241m.\u001b[39mextend\u001b[38;5;241m=\u001b[39m(fruits,more_fruits)\n\u001b[0;32m      4\u001b[0m \u001b[38;5;28mprint\u001b[39m(fruits)\n",
      "\u001b[1;31mAttributeError\u001b[0m: 'list' object attribute 'extend' is read-only"
     ]
    }
   ],
   "source": [
    "fruits=[\"apple\",\"banana\"]\n",
    "more_fruits=[\"orange\",\"cherry\"]\n",
    "fruits.extend=(fruits,more_fruits)\n",
    "print(fruits)"
   ]
  },
  {
   "cell_type": "markdown",
   "id": "ac0ddd0c",
   "metadata": {},
   "source": [
    "# change elements"
   ]
  },
  {
   "cell_type": "code",
   "execution_count": 9,
   "id": "0a80e3cc",
   "metadata": {},
   "outputs": [
    {
     "name": "stdout",
     "output_type": "stream",
     "text": [
      "['apple', 'melon']\n"
     ]
    }
   ],
   "source": [
    "fruits=[\"apple\",\"banana\"]\n",
    "fruits[1]=(\"melon\")\n",
    "print(fruits)"
   ]
  },
  {
   "cell_type": "markdown",
   "id": "16b1f5ed",
   "metadata": {},
   "source": [
    "# remove elemets"
   ]
  },
  {
   "cell_type": "code",
   "execution_count": 15,
   "id": "eff148b4",
   "metadata": {},
   "outputs": [
    {
     "name": "stdout",
     "output_type": "stream",
     "text": [
      "['papaya', 'orange', 'mango']\n",
      "mango\n",
      "[]\n"
     ]
    }
   ],
   "source": [
    "fruits=[\"papaya\",\"apple\",\"orange\",\"mango\"]\n",
    "fruits.remove(\"apple\")\n",
    "print(fruits)\n",
    "removed_fruits=fruits.pop()\n",
    "print(removed_fruits)\n",
    "fruits.clear()\n",
    "print(fruits)"
   ]
  },
  {
   "cell_type": "markdown",
   "id": "d075e6e9",
   "metadata": {},
   "source": [
    "# reversing a list"
   ]
  },
  {
   "cell_type": "code",
   "execution_count": 16,
   "id": "c267646d",
   "metadata": {},
   "outputs": [
    {
     "name": "stdout",
     "output_type": "stream",
     "text": [
      "[3, 0, 9, 4, 3, 6]\n"
     ]
    }
   ],
   "source": [
    "num=[6,3,4,9,0,3]\n",
    "num.reverse()\n",
    "print(num)"
   ]
  },
  {
   "cell_type": "markdown",
   "id": "c8204426",
   "metadata": {},
   "source": [
    "# sorting a list"
   ]
  },
  {
   "cell_type": "code",
   "execution_count": 17,
   "id": "336e2a99",
   "metadata": {},
   "outputs": [
    {
     "name": "stdout",
     "output_type": "stream",
     "text": [
      "[0, 1, 3, 3, 7, 7, 9]\n"
     ]
    }
   ],
   "source": [
    "num=[7,3,9,7,1,3,0]\n",
    "num.sort()\n",
    "print(num)"
   ]
  },
  {
   "cell_type": "markdown",
   "id": "ee648c9a",
   "metadata": {},
   "source": [
    "# nested list"
   ]
  },
  {
   "cell_type": "code",
   "execution_count": 20,
   "id": "ca8d942d",
   "metadata": {},
   "outputs": [
    {
     "name": "stdout",
     "output_type": "stream",
     "text": [
      "[[1, 2, 3], [4, 5, 6], [7, 8, 9]]\n"
     ]
    }
   ],
   "source": [
    "nested_list=[[1,2,3],[4,5,6],[7,8,9]]\n",
    "print(nested_list)"
   ]
  },
  {
   "cell_type": "markdown",
   "id": "471cfaff",
   "metadata": {},
   "source": [
    "# counting"
   ]
  },
  {
   "cell_type": "code",
   "execution_count": 21,
   "id": "c6033c69",
   "metadata": {},
   "outputs": [
    {
     "name": "stdout",
     "output_type": "stream",
     "text": [
      "0\n"
     ]
    }
   ],
   "source": [
    "num=[3,4,5,6,7,8,9]\n",
    "count=num.count(2)\n",
    "print(count)"
   ]
  },
  {
   "cell_type": "markdown",
   "id": "ae76a926",
   "metadata": {},
   "source": [
    "# max-min number"
   ]
  },
  {
   "cell_type": "code",
   "execution_count": 24,
   "id": "3ffc2380",
   "metadata": {},
   "outputs": [
    {
     "name": "stdout",
     "output_type": "stream",
     "text": [
      "89\n",
      "3\n",
      "124\n"
     ]
    }
   ],
   "source": [
    "num=[3,4,5,6,7,89,10]\n",
    "print(max(num))\n",
    "print(min(num))\n",
    "print(sum(num))"
   ]
  },
  {
   "cell_type": "code",
   "execution_count": 1,
   "id": "d54875ee",
   "metadata": {},
   "outputs": [
    {
     "name": "stdout",
     "output_type": "stream",
     "text": [
      "[8, 4, 3, 2, 1, 5]\n"
     ]
    }
   ],
   "source": [
    "num=[5,4,3,2,1,8]\n",
    "n=len(num)\n",
    "temp=num[0]\n",
    "num[0]=num[n-1]\n",
    "num[n-1]=temp\n",
    "print(num)\n"
   ]
  },
  {
   "cell_type": "code",
   "execution_count": null,
   "id": "6598522f",
   "metadata": {},
   "outputs": [],
   "source": []
  }
 ],
 "metadata": {
  "kernelspec": {
   "display_name": "Python 3 (ipykernel)",
   "language": "python",
   "name": "python3"
  },
  "language_info": {
   "codemirror_mode": {
    "name": "ipython",
    "version": 3
   },
   "file_extension": ".py",
   "mimetype": "text/x-python",
   "name": "python",
   "nbconvert_exporter": "python",
   "pygments_lexer": "ipython3",
   "version": "3.11.4"
  }
 },
 "nbformat": 4,
 "nbformat_minor": 5
}
