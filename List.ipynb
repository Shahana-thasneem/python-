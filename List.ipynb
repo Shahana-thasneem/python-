{
 "cells": [
  {
   "cell_type": "markdown",
   "id": "9d50ddf8",
   "metadata": {},
   "source": [
    "# 1"
   ]
  },
  {
   "cell_type": "code",
   "execution_count": 5,
   "id": "d41c2947",
   "metadata": {},
   "outputs": [
    {
     "name": "stdout",
     "output_type": "stream",
     "text": [
      "181\n"
     ]
    }
   ],
   "source": [
    "num=[5,8,9,0,56,8,95]\n",
    "sum=sum(num)\n",
    "print(sum)"
   ]
  },
  {
   "cell_type": "markdown",
   "id": "9366bfcd",
   "metadata": {},
   "source": [
    "# 2"
   ]
  },
  {
   "cell_type": "code",
   "execution_count": 17,
   "id": "64df4744",
   "metadata": {},
   "outputs": [
    {
     "name": "stdout",
     "output_type": "stream",
     "text": [
      "['chilly', 'beans', 'mango', 'carrot']\n"
     ]
    }
   ],
   "source": [
    "char=[\"carrot\",\"mango\",\"beans\",\"chilly\"]\n",
    "pos=char[::-1]\n",
    "print(pos)"
   ]
  },
  {
   "cell_type": "markdown",
   "id": "534ad5d3",
   "metadata": {},
   "source": [
    "# 3"
   ]
  },
  {
   "cell_type": "code",
   "execution_count": 1,
   "id": "2d38e0ba",
   "metadata": {},
   "outputs": [
    {
     "name": "stdout",
     "output_type": "stream",
     "text": [
      "['kelly', 'emma', 'kelly', 'brad']\n"
     ]
    }
   ],
   "source": [
    "list1=[\"kelly\",\"\",\"emma\",\"kelly\",\"\",\"brad\"]\n",
    "list2=[x for x in list1 if x!=\"\"]\n",
    "print(list2)"
   ]
  },
  {
   "cell_type": "markdown",
   "id": "7185e49f",
   "metadata": {},
   "source": [
    "# 4"
   ]
  },
  {
   "cell_type": "code",
   "execution_count": 8,
   "id": "8129c302",
   "metadata": {},
   "outputs": [
    {
     "name": "stdout",
     "output_type": "stream",
     "text": [
      "[10, 20, [300, 400, [5000, 6000, 7000], 500], 30, 40]\n"
     ]
    }
   ],
   "source": [
    "L=[10,20,[300,400,[5000,6000],500],30,40]\n",
    "L[2][2].insert(2,7000)\n",
    "print(L)"
   ]
  },
  {
   "cell_type": "markdown",
   "id": "43397f63",
   "metadata": {},
   "source": [
    "# 5"
   ]
  },
  {
   "cell_type": "code",
   "execution_count": 17,
   "id": "75784c67",
   "metadata": {},
   "outputs": [
    {
     "name": "stdout",
     "output_type": "stream",
     "text": [
      "number to be searched:20\n",
      "[5, 10, 15, 200, 25, 50, 20]\n"
     ]
    }
   ],
   "source": [
    "list=[5,10,15,20,25,50,20]\n",
    "search=int(input(\"number to be searched:\"))\n",
    "new_num=200\n",
    "index=list.index(search)\n",
    "list[index]=new_num\n",
    "print(list)"
   ]
  },
  {
   "cell_type": "markdown",
   "id": "6944806b",
   "metadata": {},
   "source": [
    "# 6"
   ]
  },
  {
   "cell_type": "code",
   "execution_count": 8,
   "id": "5fe3b582",
   "metadata": {},
   "outputs": [
    {
     "name": "stdout",
     "output_type": "stream",
     "text": [
      "777\n"
     ]
    }
   ],
   "source": [
    "num=[6,8,100,38,28,12,783]\n",
    "sub=max(num)-min(num)\n",
    "print(sub)"
   ]
  },
  {
   "cell_type": "markdown",
   "id": "336dd864",
   "metadata": {},
   "source": [
    "# 7"
   ]
  },
  {
   "cell_type": "code",
   "execution_count": null,
   "id": "db449b06",
   "metadata": {},
   "outputs": [],
   "source": [
    "num=[7,4,9,8,3,5,2,4,8,4,1,3,8,7,5,2]\n",
    "count_num={}\n",
    "for count in num:\n",
    "    \n"
   ]
  },
  {
   "cell_type": "markdown",
   "id": "fc0eb3cb",
   "metadata": {},
   "source": [
    "# 8"
   ]
  },
  {
   "cell_type": "code",
   "execution_count": 1,
   "id": "f2cec267",
   "metadata": {},
   "outputs": [
    {
     "name": "stdout",
     "output_type": "stream",
     "text": [
      "enter the element to insert:7\n",
      "enter the index to add the number:3\n",
      "[6, 3, 2, 7, 9, 0, 6, 7, 4]\n"
     ]
    }
   ],
   "source": [
    "num=[6,3,2,9,0,6,7,4]\n",
    "add=int(input(\"enter the element to insert:\"))\n",
    "index=int(input(\"enter the index to add the number:\"))\n",
    "num.insert(index,add)\n",
    "print(num)\n",
    "    "
   ]
  },
  {
   "cell_type": "code",
   "execution_count": null,
   "id": "c4c2f1c0",
   "metadata": {},
   "outputs": [],
   "source": []
  }
 ],
 "metadata": {
  "kernelspec": {
   "display_name": "Python 3 (ipykernel)",
   "language": "python",
   "name": "python3"
  },
  "language_info": {
   "codemirror_mode": {
    "name": "ipython",
    "version": 3
   },
   "file_extension": ".py",
   "mimetype": "text/x-python",
   "name": "python",
   "nbconvert_exporter": "python",
   "pygments_lexer": "ipython3",
   "version": "3.11.4"
  }
 },
 "nbformat": 4,
 "nbformat_minor": 5
}
