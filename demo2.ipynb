{
 "cells": [
  {
   "cell_type": "markdown",
   "id": "32537bcd",
   "metadata": {},
   "source": [
    "# comments\n"
   ]
  },
  {
   "cell_type": "code",
   "execution_count": 1,
   "id": "4a2096c4",
   "metadata": {},
   "outputs": [
    {
     "name": "stdout",
     "output_type": "stream",
     "text": [
      "hello world\n"
     ]
    }
   ],
   "source": [
    "# this is not a program\n",
    "print(\"hello world\")"
   ]
  },
  {
   "cell_type": "code",
   "execution_count": 8,
   "id": "65f3daf8",
   "metadata": {},
   "outputs": [
    {
     "name": "stdout",
     "output_type": "stream",
     "text": [
      "<class 'int'>\n",
      "<class 'str'>\n",
      "<class 'list'>\n"
     ]
    }
   ],
   "source": [
    "x=5\n",
    "y=\"string\"\n",
    "z=[5,8,9]\n",
    "print(type(x))\n",
    "print(type(y))\n",
    "print(type(z))"
   ]
  },
  {
   "cell_type": "code",
   "execution_count": 10,
   "id": "9ec1a97a",
   "metadata": {},
   "outputs": [
    {
     "name": "stdout",
     "output_type": "stream",
     "text": [
      "<class 'int'>\n"
     ]
    }
   ],
   "source": [
    "x=42\n",
    "y=type(x)\n",
    "print(type(x))"
   ]
  },
  {
   "cell_type": "code",
   "execution_count": 19,
   "id": "54223f36",
   "metadata": {},
   "outputs": [
    {
     "name": "stdout",
     "output_type": "stream",
     "text": [
      "<class 'str'>\n",
      "<class 'int'>\n"
     ]
    }
   ],
   "source": [
    "str_num=\"42\"\n",
    "print(type(str_num))\n",
    "num_int=int(str_num)\n",
    "print(type(num_int))"
   ]
  },
  {
   "cell_type": "code",
   "execution_count": 28,
   "id": "cabbd836",
   "metadata": {},
   "outputs": [
    {
     "name": "stdout",
     "output_type": "stream",
     "text": [
      "enter your name:shana\n",
      "hello shana\n"
     ]
    }
   ],
   "source": [
    "x=input ( \"enter your name:\")\n",
    "print(\"hello \" +  x)"
   ]
  },
  {
   "cell_type": "code",
   "execution_count": 34,
   "id": "f34f931b",
   "metadata": {},
   "outputs": [
    {
     "name": "stdout",
     "output_type": "stream",
     "text": [
      "enter the first number:56\n",
      "enter the second number:76\n",
      "the addition is: 132.0\n"
     ]
    }
   ],
   "source": [
    "x=float(input(\"enter the first number:\"))\n",
    "y=int(input(\"enter the second number:\"))\n",
    "print(\"the addition is:\",x+y)"
   ]
  },
  {
   "cell_type": "code",
   "execution_count": 35,
   "id": "d7f7c1a9",
   "metadata": {},
   "outputs": [
    {
     "name": "stdout",
     "output_type": "stream",
     "text": [
      "enter the first number:34\n",
      "enter the second number:12\n",
      "the addition is: 3412\n"
     ]
    }
   ],
   "source": [
    "x=(input(\"enter the first number:\"))\n",
    "y=(input(\"enter the second number:\"))\n",
    "print(\"the addition is:\",x+y)"
   ]
  },
  {
   "cell_type": "code",
   "execution_count": 37,
   "id": "decc853f",
   "metadata": {},
   "outputs": [
    {
     "name": "stdout",
     "output_type": "stream",
     "text": [
      "lorem djfjhsajhnv\n",
      "bashjh sbdhagjh ahj jbjhags\n",
      "jffnj fnsjh ndkjsfhia jhjs hgwu agwfty \n",
      "hdah nvdhj hgdjg dghajg\n"
     ]
    }
   ],
   "source": [
    "a='''lorem djfjhsajhnv\n",
    "bashjh sbdhagjh ahj jbjhags\n",
    "jffnj fnsjh ndkjsfhia jhjs hgwu agwfty \n",
    "hdah nvdhj hgdjg dghajg'''\n",
    "print(a)"
   ]
  },
  {
   "cell_type": "markdown",
   "id": "03a12e0c",
   "metadata": {},
   "source": [
    "# length"
   ]
  },
  {
   "cell_type": "code",
   "execution_count": 38,
   "id": "175fff6a",
   "metadata": {},
   "outputs": [
    {
     "name": "stdout",
     "output_type": "stream",
     "text": [
      "5\n"
     ]
    }
   ],
   "source": [
    "x=\"mango\"\n",
    "print(len(x))"
   ]
  },
  {
   "cell_type": "code",
   "execution_count": 39,
   "id": "1dfcc8b9",
   "metadata": {},
   "outputs": [
    {
     "name": "stdout",
     "output_type": "stream",
     "text": [
      "8\n"
     ]
    }
   ],
   "source": [
    "string=\"my world\"\n",
    "print(len(string))"
   ]
  },
  {
   "cell_type": "markdown",
   "id": "f0c1cc07",
   "metadata": {},
   "source": [
    "# string indexing"
   ]
  },
  {
   "cell_type": "code",
   "execution_count": 40,
   "id": "40e881fd",
   "metadata": {},
   "outputs": [
    {
     "name": "stdout",
     "output_type": "stream",
     "text": [
      "h\n"
     ]
    }
   ],
   "source": [
    "x=\"elephant\"\n",
    "print(x[4])"
   ]
  },
  {
   "cell_type": "markdown",
   "id": "cfaec8fe",
   "metadata": {},
   "source": [
    "# string slicing"
   ]
  },
  {
   "cell_type": "code",
   "execution_count": 41,
   "id": "80ede891",
   "metadata": {},
   "outputs": [
    {
     "name": "stdout",
     "output_type": "stream",
     "text": [
      "rot\n"
     ]
    }
   ],
   "source": [
    "z=\"carrot\"\n",
    "print(z[3:])#first included and last excluded"
   ]
  },
  {
   "cell_type": "code",
   "execution_count": 42,
   "id": "b5bb563f",
   "metadata": {},
   "outputs": [
    {
     "name": "stdout",
     "output_type": "stream",
     "text": [
      "sweet home\n"
     ]
    }
   ],
   "source": [
    "x=\"home sweet home\"\n",
    "print(x[5:])"
   ]
  },
  {
   "cell_type": "code",
   "execution_count": 44,
   "id": "34937658",
   "metadata": {},
   "outputs": [
    {
     "name": "stdout",
     "output_type": "stream",
     "text": [
      "beautiful\n"
     ]
    }
   ],
   "source": [
    "x=\"beautiful weather\"\n",
    "print(x[:9])"
   ]
  },
  {
   "cell_type": "code",
   "execution_count": 49,
   "id": "ee35be1c",
   "metadata": {},
   "outputs": [
    {
     "name": "stdout",
     "output_type": "stream",
     "text": [
      "d\n"
     ]
    }
   ],
   "source": [
    "x=\"dog\"\n",
    "print(x[-3])"
   ]
  },
  {
   "cell_type": "code",
   "execution_count": 50,
   "id": "90e47ad7",
   "metadata": {},
   "outputs": [
    {
     "name": "stdout",
     "output_type": "stream",
     "text": [
      "hlom eea\n"
     ]
    }
   ],
   "source": [
    "c=\"hello mr perera\"\n",
    "print(c[0:15:2])"
   ]
  },
  {
   "cell_type": "code",
   "execution_count": 52,
   "id": "259bb486",
   "metadata": {},
   "outputs": [
    {
     "name": "stdout",
     "output_type": "stream",
     "text": [
      "boy\n"
     ]
    }
   ],
   "source": [
    "d=\"little boy\"\n",
    "print(d[7:10])"
   ]
  },
  {
   "cell_type": "markdown",
   "id": "62d098d4",
   "metadata": {},
   "source": [
    "# reversing string"
   ]
  },
  {
   "cell_type": "code",
   "execution_count": 54,
   "id": "59580921",
   "metadata": {},
   "outputs": [
    {
     "name": "stdout",
     "output_type": "stream",
     "text": [
      "anahahs\n"
     ]
    }
   ],
   "source": [
    "t=\"shahana\"\n",
    "reversed=t[::-1]\n",
    "print(reversed)"
   ]
  },
  {
   "cell_type": "code",
   "execution_count": 58,
   "id": "557a3361",
   "metadata": {},
   "outputs": [
    {
     "ename": "SyntaxError",
     "evalue": "invalid syntax (4094242847.py, line 4)",
     "output_type": "error",
     "traceback": [
      "\u001b[1;36m  Cell \u001b[1;32mIn[58], line 4\u001b[1;36m\u001b[0m\n\u001b[1;33m    w=x+ \"\"+ y + \"\" z + ( ! * 20)\u001b[0m\n\u001b[1;37m                    ^\u001b[0m\n\u001b[1;31mSyntaxError\u001b[0m\u001b[1;31m:\u001b[0m invalid syntax\n"
     ]
    }
   ],
   "source": [
    "x=\"oh\"\n",
    "y=\"my\"\n",
    "z=\"god\"\n",
    "w=x+ \"\"+ y + \"\" z + ( ! * 20)\n",
    "print(w)"
   ]
  },
  {
   "cell_type": "markdown",
   "id": "7cf4bf1c",
   "metadata": {},
   "source": [
    "# string methods"
   ]
  },
  {
   "cell_type": "code",
   "execution_count": 61,
   "id": "291e84a1",
   "metadata": {},
   "outputs": [
    {
     "name": "stdout",
     "output_type": "stream",
     "text": [
      "HELLO\n"
     ]
    }
   ],
   "source": [
    "x1=\"hello\"\n",
    "print(x1.upper())"
   ]
  },
  {
   "cell_type": "code",
   "execution_count": 62,
   "id": "d40ea412",
   "metadata": {},
   "outputs": [
    {
     "name": "stdout",
     "output_type": "stream",
     "text": [
      "world\n"
     ]
    }
   ],
   "source": [
    "x2=\"world\"\n",
    "print(x2.lower())"
   ]
  },
  {
   "cell_type": "code",
   "execution_count": 64,
   "id": "f90686da",
   "metadata": {},
   "outputs": [
    {
     "name": "stdout",
     "output_type": "stream",
     "text": [
      "hello   world !!!!\n"
     ]
    }
   ],
   "source": [
    "x3=\"  hello   world !!!!    \"\n",
    "print(x3.strip())"
   ]
  },
  {
   "cell_type": "code",
   "execution_count": 72,
   "id": "7fb67106",
   "metadata": {},
   "outputs": [
    {
     "name": "stdout",
     "output_type": "stream",
     "text": [
      "True\n",
      "False\n",
      "True\n"
     ]
    }
   ],
   "source": [
    "alphacheck=\"hello\".isalpha()\n",
    "print(alphacheck)\n",
    "digitcheck=\"56\".isalpha()\n",
    "print(digitcheck)\n",
    "alnumcheck=\"hello36\".isalnum()\n",
    "print(alnumcheck)"
   ]
  },
  {
   "cell_type": "code",
   "execution_count": 75,
   "id": "23585d78",
   "metadata": {},
   "outputs": [
    {
     "name": "stdout",
     "output_type": "stream",
     "text": [
      "['apple', 'mango', 'cherry']\n",
      "['apple,mango,cherry']\n"
     ]
    }
   ],
   "source": [
    "fruits=\"apple,mango,cherry\"\n",
    "string=fruits.split(\",\")\n",
    "print(string)\n",
    "joined_string=fruits.split(\"-\")\n",
    "print(joined_string)"
   ]
  },
  {
   "cell_type": "code",
   "execution_count": 77,
   "id": "4b938b44",
   "metadata": {},
   "outputs": [
    {
     "name": "stdout",
     "output_type": "stream",
     "text": [
      "hi world\n"
     ]
    }
   ],
   "source": [
    "x=\"hello world\"\n",
    "z=x.replace(\"hello\",\"hi\")\n",
    "print(z)"
   ]
  },
  {
   "cell_type": "code",
   "execution_count": 91,
   "id": "ded54ff7",
   "metadata": {},
   "outputs": [
    {
     "name": "stdout",
     "output_type": "stream",
     "text": [
      "my name is alice and iam 59 old\n",
      "my name is alice and 59 old.\n",
      "my name is alice and iam 59 old.\n"
     ]
    }
   ],
   "source": [
    "name =\"alice\"\n",
    "age=59\n",
    "w= \"my name is %s and iam %d old\" % (name,age)\n",
    "print(w)\n",
    "formatted_name=f\"my name is {name} and {age} old.\"\n",
    "print(formatted_name)\n",
    "formatted_name2=\"my name is {} and iam {} old.\" .format(name,age)\n",
    "print(formatted_name2)\n"
   ]
  },
  {
   "cell_type": "code",
   "execution_count": 93,
   "id": "7d7b1166",
   "metadata": {},
   "outputs": [
    {
     "name": "stdout",
     "output_type": "stream",
     "text": [
      "3.149\n"
     ]
    }
   ],
   "source": [
    "pi=3.1489879846\n",
    "formatted_pi=\"{:0.3f}\".format(pi)\n",
    "print(formatted_pi)"
   ]
  },
  {
   "cell_type": "code",
   "execution_count": null,
   "id": "d152d5a1",
   "metadata": {},
   "outputs": [],
   "source": []
  }
 ],
 "metadata": {
  "kernelspec": {
   "display_name": "Python 3 (ipykernel)",
   "language": "python",
   "name": "python3"
  },
  "language_info": {
   "codemirror_mode": {
    "name": "ipython",
    "version": 3
   },
   "file_extension": ".py",
   "mimetype": "text/x-python",
   "name": "python",
   "nbconvert_exporter": "python",
   "pygments_lexer": "ipython3",
   "version": "3.11.4"
  }
 },
 "nbformat": 4,
 "nbformat_minor": 5
}
