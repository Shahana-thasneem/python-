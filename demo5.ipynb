{
 "cells": [
  {
   "cell_type": "code",
   "execution_count": 3,
   "id": "1877153f",
   "metadata": {},
   "outputs": [
    {
     "name": "stdout",
     "output_type": "stream",
     "text": [
      "a is greater than b\n",
      "condition checked\n"
     ]
    }
   ],
   "source": [
    "a=298\n",
    "b=276\n",
    "if(a>b):\n",
    "    print(\"a is greater than b\")\n",
    "print(\"condition checked\")"
   ]
  },
  {
   "cell_type": "code",
   "execution_count": 4,
   "id": "bf63d563",
   "metadata": {},
   "outputs": [
    {
     "name": "stdout",
     "output_type": "stream",
     "text": [
      "a is greater than b\n",
      "condition checked\n"
     ]
    }
   ],
   "source": [
    "a=1000\n",
    "b=287\n",
    "if(a>b) or (a==b):\n",
    "    print(\"a is greater than b\")\n",
    "print(\"condition checked\")"
   ]
  },
  {
   "cell_type": "code",
   "execution_count": 5,
   "id": "35765f1e",
   "metadata": {},
   "outputs": [
    {
     "name": "stdout",
     "output_type": "stream",
     "text": [
      "b is greater than a\n"
     ]
    }
   ],
   "source": [
    "a=200\n",
    "b=500\n",
    "if(a>b):\n",
    "    print(\"a is greater than b\")\n",
    "else:\n",
    "    print(\"b is greater than a\")"
   ]
  },
  {
   "cell_type": "code",
   "execution_count": 6,
   "id": "bddd6d31",
   "metadata": {},
   "outputs": [
    {
     "name": "stdout",
     "output_type": "stream",
     "text": [
      "string\n"
     ]
    }
   ],
   "source": [
    "a=98\n",
    "b=\"mango\"\n",
    "typ=type(b)\n",
    "if(typ==str):\n",
    "    print(\"string\")\n",
    "else:\n",
    "    print(\"number\")"
   ]
  },
  {
   "cell_type": "markdown",
   "id": "7a99a64a",
   "metadata": {},
   "source": [
    "# elif"
   ]
  },
  {
   "cell_type": "code",
   "execution_count": 7,
   "id": "a5a10df8",
   "metadata": {},
   "outputs": [
    {
     "name": "stdout",
     "output_type": "stream",
     "text": [
      "enter the first number:12\n",
      "enter the second number:3\n",
      "a is greater than b\n"
     ]
    }
   ],
   "source": [
    "a=int(input(\"enter the first number:\"))\n",
    "b=int(input(\"enter the second number:\"))\n",
    "if(a>b):\n",
    "    print(\"a is greater than b\")\n",
    "elif(a<b):\n",
    "    print(\"b is greater than a\")\n",
    "else:\n",
    "    print(\"a is equal to b\")"
   ]
  },
  {
   "cell_type": "markdown",
   "id": "b4ef86ef",
   "metadata": {},
   "source": [
    "# short hand if,if-else"
   ]
  },
  {
   "cell_type": "code",
   "execution_count": 8,
   "id": "8ab3663b",
   "metadata": {},
   "outputs": [
    {
     "name": "stdout",
     "output_type": "stream",
     "text": [
      "a is greater than b\n"
     ]
    }
   ],
   "source": [
    "a=300\n",
    "b=28\n",
    "if a>b: print(\"a is greater than b\")"
   ]
  },
  {
   "cell_type": "code",
   "execution_count": 10,
   "id": "946df024",
   "metadata": {},
   "outputs": [
    {
     "name": "stdout",
     "output_type": "stream",
     "text": [
      "a is greater than b\n"
     ]
    }
   ],
   "source": [
    "a=5550\n",
    "b=2250\n",
    "print(\"a is greater than b\") if a>b else print(\"b is greater than a\")"
   ]
  },
  {
   "cell_type": "code",
   "execution_count": 12,
   "id": "ea6ae554",
   "metadata": {},
   "outputs": [
    {
     "name": "stdout",
     "output_type": "stream",
     "text": [
      "above ten\n",
      "above 20\n"
     ]
    }
   ],
   "source": [
    "x=42\n",
    "if (x>10):\n",
    "    print(\"above ten\")\n",
    "    if (x>20):\n",
    "        print(\"above 20\")\n",
    "    else:\n",
    "        print(\"less than 20\")"
   ]
  },
  {
   "cell_type": "markdown",
   "id": "3d9c4847",
   "metadata": {},
   "source": [
    "# the pass statement"
   ]
  },
  {
   "cell_type": "code",
   "execution_count": 13,
   "id": "b2150a5e",
   "metadata": {},
   "outputs": [
    {
     "ename": "SyntaxError",
     "evalue": "invalid syntax (3288605326.py, line 1)",
     "output_type": "error",
     "traceback": [
      "\u001b[1;36m  Cell \u001b[1;32mIn[13], line 1\u001b[1;36m\u001b[0m\n\u001b[1;33m    a=\u001b[0m\n\u001b[1;37m      ^\u001b[0m\n\u001b[1;31mSyntaxError\u001b[0m\u001b[1;31m:\u001b[0m invalid syntax\n"
     ]
    }
   ],
   "source": [
    "a=\n"
   ]
  },
  {
   "cell_type": "code",
   "execution_count": 15,
   "id": "34ca8cfe",
   "metadata": {},
   "outputs": [
    {
     "name": "stdout",
     "output_type": "stream",
     "text": [
      "enter the number:-1\n",
      "it is a negative number\n"
     ]
    }
   ],
   "source": [
    "a=int(input(\"enter the number:\"))\n",
    "if (a>0):\n",
    "    print(\"it is a positive number\")\n",
    "else:\n",
    "    print(\"it is a negative number\")"
   ]
  },
  {
   "cell_type": "code",
   "execution_count": 1,
   "id": "74303a95",
   "metadata": {},
   "outputs": [
    {
     "name": "stdout",
     "output_type": "stream",
     "text": [
      "enter the age of first person:49\n",
      "enter the age of second person:98\n",
      "enter the age of third person:13\n",
      "x is younger\n",
      "y is oldest\n",
      "z is youngest\n"
     ]
    }
   ],
   "source": [
    "x=int(input(\"enter the age of first person:\"))\n",
    "y=int(input(\"enter the age of second person:\"))\n",
    "z=int(input(\"enter the age of third person:\"))\n",
    "if (x> y) and (x>z):\n",
    "    print(\"x is oldest\")\n",
    "elif(x<y) and (x<z):\n",
    "    print(\"x is youngest\")\n",
    "else:\n",
    "    print(\"x is younger\")\n",
    "if(y>x) and (y>z):\n",
    "    print(\"y is oldest\")\n",
    "elif(y<x) and (y<z):\n",
    "    print(\"y is youngest\")\n",
    "else:\n",
    "    print(\"y is younger\")\n",
    "if(z>x) and (z>y):\n",
    "    print(\"z is oldest\")\n",
    "elif(z<x) and (z>y):\n",
    "    print(\"z is younger\")\n",
    "else:\n",
    "    print(\"z is youngest\")"
   ]
  },
  {
   "cell_type": "code",
   "execution_count": null,
   "id": "724db6e8",
   "metadata": {},
   "outputs": [],
   "source": []
  }
 ],
 "metadata": {
  "kernelspec": {
   "display_name": "Python 3 (ipykernel)",
   "language": "python",
   "name": "python3"
  },
  "language_info": {
   "codemirror_mode": {
    "name": "ipython",
    "version": 3
   },
   "file_extension": ".py",
   "mimetype": "text/x-python",
   "name": "python",
   "nbconvert_exporter": "python",
   "pygments_lexer": "ipython3",
   "version": "3.11.4"
  }
 },
 "nbformat": 4,
 "nbformat_minor": 5
}
